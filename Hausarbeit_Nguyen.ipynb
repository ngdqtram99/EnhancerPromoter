{
 "cells": [
  {
   "cell_type": "markdown",
   "id": "9d84eb4a",
   "metadata": {},
   "source": [
    "**Name:** Dang Quynh Tram Nguyen\n",
    "\n",
    "**Matrikelnummer:** 5311561\n",
    "\n",
    "**Semester:** Wintersemester 23/24\n",
    "\n",
    "**Modul:** Data Science\n",
    "\n",
    "\n",
    "# Lesen Fasta Dateien"
   ]
  },
  {
   "cell_type": "markdown",
   "id": "26c2dd05",
   "metadata": {},
   "source": [
    "Die Daten der DNA-Fragmente der K562-Zelle, die als Enhancern und Promotoren bezeichnet sind, wurden von UCSC-Webseite heruntergeladen.\n",
    "\n",
    "Promotoren sind Bestandteile von Genen und spielen eine entscheidende Rolle bei der Genregulation.  Transkriptionsfaktoren sowie RNA-Polymerase binden an sie, um die Transkription der Gene zu initiieren. Enhancer sind spezifische DNA-Abschnitte, an die Transkriptionsfaktoren binden können. Sie optimieren die Transkriptionsaktivität der Gene, deren Promotoren mit ihnen gekoppelt sind."
   ]
  },
  {
   "cell_type": "code",
   "execution_count": 1,
   "id": "e0a80e9b",
   "metadata": {},
   "outputs": [],
   "source": [
    "from Bio import SeqIO\n",
    "    \n",
    "# Funktion: Lesen Text-Dateien (Format ähnlich wie eine FASTA-Datei) und geben eine Liste der Sequenzen zurück\n",
    "def read_fasta(*paths):\n",
    "    sequences = {'seq': []}\n",
    "    for path in paths:\n",
    "        with open (path, 'r') as fasta_file:\n",
    "            for record in SeqIO.parse(fasta_file, 'fasta'):\n",
    "                sequences['seq'].append(record.seq)\n",
    "    return sequences"
   ]
  },
  {
   "cell_type": "markdown",
   "id": "3eefee42",
   "metadata": {},
   "source": [
    "Die Anzahl der Enhancern nach dem Filtern ist ganz wenig. Deswegen wurden 3 Dateien mit insgesamt ca. 2000 Sequenzen gelesen. Die Datei von Promotoren enthält ca. 600 Sequenzen."
   ]
  },
  {
   "cell_type": "code",
   "execution_count": 2,
   "id": "69c4d15c",
   "metadata": {},
   "outputs": [],
   "source": [
    "enhancers = read_fasta('Enhancer.txt', 'Enhancer2.txt', 'Enhancer3.txt')\n",
    "promotors = read_fasta('Promotor.txt')"
   ]
  },
  {
   "cell_type": "code",
   "execution_count": 3,
   "id": "015ee02b",
   "metadata": {},
   "outputs": [],
   "source": [
    "import pandas as pd\n",
    "\n",
    "# Erstellen die Data Frames für die Sequenzendaten von Enhancers und Promotoren\n",
    "df_enhancers = pd.DataFrame(enhancers)\n",
    "df_promotors = pd.DataFrame(promotors)"
   ]
  },
  {
   "cell_type": "code",
   "execution_count": 4,
   "id": "26261c55",
   "metadata": {},
   "outputs": [
    {
     "data": {
      "text/html": [
       "<div>\n",
       "<style scoped>\n",
       "    .dataframe tbody tr th:only-of-type {\n",
       "        vertical-align: middle;\n",
       "    }\n",
       "\n",
       "    .dataframe tbody tr th {\n",
       "        vertical-align: top;\n",
       "    }\n",
       "\n",
       "    .dataframe thead th {\n",
       "        text-align: right;\n",
       "    }\n",
       "</style>\n",
       "<table border=\"1\" class=\"dataframe\">\n",
       "  <thead>\n",
       "    <tr style=\"text-align: right;\">\n",
       "      <th></th>\n",
       "      <th>seq</th>\n",
       "    </tr>\n",
       "  </thead>\n",
       "  <tbody>\n",
       "    <tr>\n",
       "      <th>0</th>\n",
       "      <td>(C, C, G, C, C, G, T, T, G, C, A, A, A, G, G, ...</td>\n",
       "    </tr>\n",
       "    <tr>\n",
       "      <th>1</th>\n",
       "      <td>(G, A, T, T, C, A, T, G, G, C, T, G, A, A, A, ...</td>\n",
       "    </tr>\n",
       "    <tr>\n",
       "      <th>2</th>\n",
       "      <td>(G, A, T, T, C, A, T, G, G, C, T, G, A, A, A, ...</td>\n",
       "    </tr>\n",
       "    <tr>\n",
       "      <th>3</th>\n",
       "      <td>(G, A, T, T, C, A, T, G, G, C, T, G, A, A, A, ...</td>\n",
       "    </tr>\n",
       "    <tr>\n",
       "      <th>4</th>\n",
       "      <td>(G, A, T, C, C, T, T, G, A, A, G, C, G, C, C, ...</td>\n",
       "    </tr>\n",
       "    <tr>\n",
       "      <th>...</th>\n",
       "      <td>...</td>\n",
       "    </tr>\n",
       "    <tr>\n",
       "      <th>2108</th>\n",
       "      <td>(G, A, T, C, C, A, C, C, C, A, C, C, T, T, G, ...</td>\n",
       "    </tr>\n",
       "    <tr>\n",
       "      <th>2109</th>\n",
       "      <td>(G, A, T, C, C, A, C, C, C, A, C, C, T, T, G, ...</td>\n",
       "    </tr>\n",
       "    <tr>\n",
       "      <th>2110</th>\n",
       "      <td>(G, A, T, C, C, A, C, C, C, A, C, C, T, T, G, ...</td>\n",
       "    </tr>\n",
       "    <tr>\n",
       "      <th>2111</th>\n",
       "      <td>(G, A, T, C, C, A, C, C, C, A, C, C, T, T, G, ...</td>\n",
       "    </tr>\n",
       "    <tr>\n",
       "      <th>2112</th>\n",
       "      <td>(G, A, T, C, C, A, C, C, C, A, C, C, T, T, G, ...</td>\n",
       "    </tr>\n",
       "  </tbody>\n",
       "</table>\n",
       "<p>2113 rows × 1 columns</p>\n",
       "</div>"
      ],
      "text/plain": [
       "                                                    seq\n",
       "0     (C, C, G, C, C, G, T, T, G, C, A, A, A, G, G, ...\n",
       "1     (G, A, T, T, C, A, T, G, G, C, T, G, A, A, A, ...\n",
       "2     (G, A, T, T, C, A, T, G, G, C, T, G, A, A, A, ...\n",
       "3     (G, A, T, T, C, A, T, G, G, C, T, G, A, A, A, ...\n",
       "4     (G, A, T, C, C, T, T, G, A, A, G, C, G, C, C, ...\n",
       "...                                                 ...\n",
       "2108  (G, A, T, C, C, A, C, C, C, A, C, C, T, T, G, ...\n",
       "2109  (G, A, T, C, C, A, C, C, C, A, C, C, T, T, G, ...\n",
       "2110  (G, A, T, C, C, A, C, C, C, A, C, C, T, T, G, ...\n",
       "2111  (G, A, T, C, C, A, C, C, C, A, C, C, T, T, G, ...\n",
       "2112  (G, A, T, C, C, A, C, C, C, A, C, C, T, T, G, ...\n",
       "\n",
       "[2113 rows x 1 columns]"
      ]
     },
     "execution_count": 4,
     "metadata": {},
     "output_type": "execute_result"
    }
   ],
   "source": [
    "df_enhancers"
   ]
  },
  {
   "cell_type": "code",
   "execution_count": 5,
   "id": "2dd4e742",
   "metadata": {},
   "outputs": [
    {
     "name": "stdout",
     "output_type": "stream",
     "text": [
      "2113\n",
      "611\n"
     ]
    }
   ],
   "source": [
    "# Die Größen der Enhancern- und Promotoren-Daten\n",
    "print(len(df_enhancers))\n",
    "print(len(df_promotors))"
   ]
  },
  {
   "cell_type": "code",
   "execution_count": 6,
   "id": "436122a3",
   "metadata": {},
   "outputs": [
    {
     "name": "stdout",
     "output_type": "stream",
     "text": [
      "227\n",
      "385\n"
     ]
    }
   ],
   "source": [
    "# Sortieren die Duplikationen in den Daten aus\n",
    "df_enhancers = df_enhancers.drop_duplicates(ignore_index=True)\n",
    "df_promotors = df_promotors.drop_duplicates(ignore_index=True)\n",
    "\n",
    "# Die Größen der Daten nach dem Aussortieren der Duplikationen\n",
    "print(len(df_enhancers))\n",
    "print(len(df_promotors))"
   ]
  },
  {
   "cell_type": "code",
   "execution_count": 7,
   "id": "f6491750",
   "metadata": {},
   "outputs": [
    {
     "data": {
      "text/plain": [
       "111"
      ]
     },
     "execution_count": 7,
     "metadata": {},
     "output_type": "execute_result"
    }
   ],
   "source": [
    "# Finden die überlappten Sequenzen von Enhancers und Promotoren\n",
    "overlap_seq = df_enhancers[df_enhancers['seq'].isin(df_promotors['seq'])]\n",
    "len(overlap_seq)"
   ]
  },
  {
   "cell_type": "code",
   "execution_count": 8,
   "id": "0c9b3530",
   "metadata": {},
   "outputs": [],
   "source": [
    "# Funktion: Sortieren die überlappten Sequenzen in beiden Daten aus \n",
    "def df_without_overlap(df: pd.DataFrame):\n",
    "    global overlap_seq\n",
    "    # Mergen die Datenframe mit überlappten Sequenzen\n",
    "    merged_df = pd.merge(df, overlap_seq, on='seq', how='outer', indicator=True)\n",
    "    \n",
    "    # Sortieren die Überlappten aus\n",
    "    filtered_df = merged_df[merged_df['_merge'] == 'left_only'].drop(columns='_merge')\n",
    "    \n",
    "    return filtered_df"
   ]
  },
  {
   "cell_type": "code",
   "execution_count": 9,
   "id": "20c75d79",
   "metadata": {},
   "outputs": [],
   "source": [
    "df_enhancers = df_without_overlap(df_enhancers)\n",
    "df_promotors = df_without_overlap(df_promotors)"
   ]
  },
  {
   "cell_type": "code",
   "execution_count": 10,
   "id": "628e5601",
   "metadata": {
    "scrolled": true
   },
   "outputs": [
    {
     "name": "stdout",
     "output_type": "stream",
     "text": [
      "116\n",
      "274\n"
     ]
    }
   ],
   "source": [
    "# Die Größen der Daten nach dem Aussortieren der überlappten Sequenzen\n",
    "print(len(df_enhancers))\n",
    "print(len(df_promotors))"
   ]
  },
  {
   "cell_type": "markdown",
   "id": "22ef142f",
   "metadata": {},
   "source": [
    "# Hypothesentest: Unterschied zwischen GC-Anteil in Enhancern und Promotoren\n",
    "\n",
    "Der GC-Anteil ist ein charakteristisches Merkmal von Nukleinsäuremolekülen und gibt den Gehalt an Guanin (G) und Cytosin (C) im Verhältnis zu den gesamten Nukleobasen in einer Sequenz an. In diesem Abschnitt wurden die GC-Anteile der Enhancer und Promotoren berechnet und miteinander verglichen, um festzustellen, ob signifikante Unterschiede vorhanden sind.\n",
    "\n",
    "\n",
    "## Vorbereiten der GC-Anteilen"
   ]
  },
  {
   "cell_type": "code",
   "execution_count": 11,
   "id": "09d2afa6",
   "metadata": {},
   "outputs": [],
   "source": [
    "# Funktion: Berechnung die GC-Anteil in jeder Sequenzen\n",
    "# Formel: Summe der Anzahl von C und G über Summe aller Nukleotiden in der Sequenz\n",
    "def add_gc_amount_col(df: pd.DataFrame):    \n",
    "    df['gc_amount'] = df.apply(lambda row: (row['seq'].count('C') + row['seq'].count('G')) / len(row['seq']), axis = 1)"
   ]
  },
  {
   "cell_type": "code",
   "execution_count": 12,
   "id": "46d34a5f",
   "metadata": {},
   "outputs": [],
   "source": [
    "add_gc_amount_col(df_enhancers)\n",
    "add_gc_amount_col(df_promotors)"
   ]
  },
  {
   "cell_type": "code",
   "execution_count": 13,
   "id": "7d2227c2",
   "metadata": {},
   "outputs": [
    {
     "data": {
      "text/html": [
       "<div>\n",
       "<style scoped>\n",
       "    .dataframe tbody tr th:only-of-type {\n",
       "        vertical-align: middle;\n",
       "    }\n",
       "\n",
       "    .dataframe tbody tr th {\n",
       "        vertical-align: top;\n",
       "    }\n",
       "\n",
       "    .dataframe thead th {\n",
       "        text-align: right;\n",
       "    }\n",
       "</style>\n",
       "<table border=\"1\" class=\"dataframe\">\n",
       "  <thead>\n",
       "    <tr style=\"text-align: right;\">\n",
       "      <th></th>\n",
       "      <th>seq</th>\n",
       "      <th>gc_amount</th>\n",
       "    </tr>\n",
       "  </thead>\n",
       "  <tbody>\n",
       "    <tr>\n",
       "      <th>0</th>\n",
       "      <td>(C, C, G, C, C, G, T, T, G, C, A, A, A, G, G, ...</td>\n",
       "      <td>0.429431</td>\n",
       "    </tr>\n",
       "    <tr>\n",
       "      <th>1</th>\n",
       "      <td>(G, A, T, T, C, A, T, G, G, C, T, G, A, A, A, ...</td>\n",
       "      <td>0.391445</td>\n",
       "    </tr>\n",
       "    <tr>\n",
       "      <th>2</th>\n",
       "      <td>(G, A, T, C, C, T, T, G, A, A, G, C, G, C, C, ...</td>\n",
       "      <td>0.428906</td>\n",
       "    </tr>\n",
       "    <tr>\n",
       "      <th>14</th>\n",
       "      <td>(C, T, G, C, C, C, T, T, G, C, T, G, A, C, C, ...</td>\n",
       "      <td>0.564309</td>\n",
       "    </tr>\n",
       "    <tr>\n",
       "      <th>15</th>\n",
       "      <td>(C, A, G, T, C, C, C, A, G, C, G, G, A, C, A, ...</td>\n",
       "      <td>0.572551</td>\n",
       "    </tr>\n",
       "    <tr>\n",
       "      <th>...</th>\n",
       "      <td>...</td>\n",
       "      <td>...</td>\n",
       "    </tr>\n",
       "    <tr>\n",
       "      <th>202</th>\n",
       "      <td>(G, C, T, T, C, C, C, A, A, A, C, T, G, C, T, ...</td>\n",
       "      <td>0.504595</td>\n",
       "    </tr>\n",
       "    <tr>\n",
       "      <th>209</th>\n",
       "      <td>(C, A, T, C, A, C, C, A, C, A, A, T, C, A, A, ...</td>\n",
       "      <td>0.444295</td>\n",
       "    </tr>\n",
       "    <tr>\n",
       "      <th>213</th>\n",
       "      <td>(G, A, T, C, C, C, C, A, T, A, T, T, C, C, C, ...</td>\n",
       "      <td>0.511536</td>\n",
       "    </tr>\n",
       "    <tr>\n",
       "      <th>217</th>\n",
       "      <td>(G, A, A, T, T, C, T, T, T, G, T, A, A, T, A, ...</td>\n",
       "      <td>0.415281</td>\n",
       "    </tr>\n",
       "    <tr>\n",
       "      <th>225</th>\n",
       "      <td>(A, T, C, T, T, T, T, C, A, G, C, T, T, A, G, ...</td>\n",
       "      <td>0.476236</td>\n",
       "    </tr>\n",
       "  </tbody>\n",
       "</table>\n",
       "<p>116 rows × 2 columns</p>\n",
       "</div>"
      ],
      "text/plain": [
       "                                                   seq  gc_amount\n",
       "0    (C, C, G, C, C, G, T, T, G, C, A, A, A, G, G, ...   0.429431\n",
       "1    (G, A, T, T, C, A, T, G, G, C, T, G, A, A, A, ...   0.391445\n",
       "2    (G, A, T, C, C, T, T, G, A, A, G, C, G, C, C, ...   0.428906\n",
       "14   (C, T, G, C, C, C, T, T, G, C, T, G, A, C, C, ...   0.564309\n",
       "15   (C, A, G, T, C, C, C, A, G, C, G, G, A, C, A, ...   0.572551\n",
       "..                                                 ...        ...\n",
       "202  (G, C, T, T, C, C, C, A, A, A, C, T, G, C, T, ...   0.504595\n",
       "209  (C, A, T, C, A, C, C, A, C, A, A, T, C, A, A, ...   0.444295\n",
       "213  (G, A, T, C, C, C, C, A, T, A, T, T, C, C, C, ...   0.511536\n",
       "217  (G, A, A, T, T, C, T, T, T, G, T, A, A, T, A, ...   0.415281\n",
       "225  (A, T, C, T, T, T, T, C, A, G, C, T, T, A, G, ...   0.476236\n",
       "\n",
       "[116 rows x 2 columns]"
      ]
     },
     "execution_count": 13,
     "metadata": {},
     "output_type": "execute_result"
    }
   ],
   "source": [
    "df_enhancers"
   ]
  },
  {
   "cell_type": "markdown",
   "id": "6dbc2f30",
   "metadata": {},
   "source": [
    "## Visualisieren die Verteilung der GC-Anteile bei Enhancers und Promotoren"
   ]
  },
  {
   "cell_type": "code",
   "execution_count": 14,
   "id": "18353b43",
   "metadata": {},
   "outputs": [
    {
     "data": {
      "image/png": "[encoded data removed]",
      "text/plain": [
       "<Figure size 640x480 with 2 Axes>"
      ]
     },
     "metadata": {},
     "output_type": "display_data"
    }
   ],
   "source": [
    "import matplotlib.pyplot as plt\n",
    "\n",
    "# Erstellen die Plots, da sie die x-Achse (GC-Anteil) miteinander teilen\n",
    "fig, axs = plt.subplots(2,1, sharex = True)\n",
    "\n",
    "axs[0].hist(df_enhancers['gc_amount'], bins = 40, rwidth = 0.7, color = 'darkorange')\n",
    "axs[0].legend('Enhancern')\n",
    "axs[1].hist(df_promotors['gc_amount'], bins = 40, rwidth = 0.7, color = 'green')\n",
    "axs[1].legend('Promotoren')\n",
    "\n",
    "# Setzen die Labels der Achsen\n",
    "fig.text(0.04, 0.5,'Häufigkeit von GC-Anteil', va='center', rotation = 'vertical')\n",
    "plt.xlabel('CG Anteil')\n",
    "\n",
    "# Beschriften der Plots\n",
    "axs[0].set_title('Verteilung von GC-Anteil bei Enhancern')\n",
    "axs[1].set_title('Verteilung von GC-Anteil bei Promotoren')\n",
    "\n",
    "plt.show()"
   ]
  },
  {
   "cell_type": "markdown",
   "id": "efb6d3d0",
   "metadata": {},
   "source": [
    "## Testen die Normalveteilung von jeder Stichprobe durch Shapiro Wilk Test\n",
    "\n",
    "**Stichproben:** Die GC-Anteile der Enhancern und Promotoren\n",
    "\n",
    "**Nullhypothese:** Normalverteilung\n",
    "\n",
    "Signifikant Level  = 0.05"
   ]
  },
  {
   "cell_type": "code",
   "execution_count": 15,
   "id": "608069c7",
   "metadata": {},
   "outputs": [
    {
     "name": "stdout",
     "output_type": "stream",
     "text": [
      "Shapiro-Wilk Test:\n",
      "Die GC-Anteil bei Enhancern verteilt normal (p-value = 0.4938776195049286)\n",
      "Die GC-Anteil bei Promotoren verteilt NICHT normal (p-value = 0.0018061109585687518)\n"
     ]
    }
   ],
   "source": [
    "from scipy import stats\n",
    "\n",
    "sig_lv = 0.05\n",
    "\n",
    "e_stat_sw, e_p_val_sw = stats.shapiro(df_enhancers['gc_amount'])\n",
    "p_stat_sw, p_p_val_sw = stats.shapiro(df_promotors['gc_amount'])\n",
    "\n",
    "print('Shapiro-Wilk Test:')\n",
    "if e_p_val_sw >= sig_lv:\n",
    "    print(f'Die GC-Anteil bei Enhancern verteilt normal (p-value = {e_p_val_sw})')\n",
    "else:\n",
    "    print(f'Die GC-Anteil bei Enhancern verteilt NICHT normal (p-value = {e_p_val_sw})')\n",
    "\n",
    "if p_p_val_sw >= sig_lv:\n",
    "    print(f'Die GC-Anteil bei Promotoren verteilt normal (p-value = {p_p_val_sw})')\n",
    "else:\n",
    "    print(f'Die GC-Anteil bei Promotoren verteilt NICHT normal (p-value = {p_p_val_sw})')\n"
   ]
  },
  {
   "cell_type": "markdown",
   "id": "554b6343",
   "metadata": {},
   "source": [
    "## Testen die Varianzhomogenität von jeder Sitchprobe durch Levene Test\n",
    "\n",
    "**Stichproben:** Die GC-Anteile der Enhancern und Promotoren\n",
    "\n",
    "**Nullhypothese:** Varianzhomogenität\n",
    "\n",
    "Signifikant Level = 0.05"
   ]
  },
  {
   "cell_type": "code",
   "execution_count": 16,
   "id": "60949f4f",
   "metadata": {
    "scrolled": true
   },
   "outputs": [
    {
     "name": "stdout",
     "output_type": "stream",
     "text": [
      "2 Stichproben sind varianzhomogen (p-value = 0.35227239234991037)\n"
     ]
    }
   ],
   "source": [
    "sig_lv = .05\n",
    "\n",
    "stat_le, p_val_le = stats.levene(df_enhancers['gc_amount'], df_promotors['gc_amount'])\n",
    "\n",
    "if p_val_le >= sig_lv:\n",
    "    print(f'2 Stichproben sind varianzhomogen (p-value = {p_val_le})')\n",
    "else:\n",
    "    print(f'2 Stichproben sind NICHT varianzhomogen (p-value = {p_val_le})')\n"
   ]
  },
  {
   "cell_type": "markdown",
   "id": "37c81236",
   "metadata": {},
   "source": [
    "## Testen die gleiche GC-Anteile zwischen beiden Stichproben\n",
    "\n",
    "2 unabhängigen Stichproben (GC-Anteile bei Enhancern und Promotoren) sind varianzhomogen, aber nur eine ist normal verteilt\n",
    "\n",
    "=> Wählen Mann-Whitney-U Test (weder Normalverteilung noch Varianzhomogenität benötigt)\n",
    "\n",
    "**Nullhypothese:** gleiche GC-Anteile bei Enhancern und Promotoren\n",
    "\n",
    "Signifikant Level = 0.05"
   ]
  },
  {
   "cell_type": "code",
   "execution_count": 17,
   "id": "ec80a1a8",
   "metadata": {},
   "outputs": [
    {
     "name": "stdout",
     "output_type": "stream",
     "text": [
      "Die Verteilungen der GC-Anteil der Enhancern und Promotoren sind signifikant (p-value = 1.8437876883184977e-19)\n"
     ]
    }
   ],
   "source": [
    "sig_lv = 0.05\n",
    "\n",
    "stat_man, p_val_man = stats.mannwhitneyu(df_enhancers['gc_amount'], df_promotors['gc_amount'], alternative = 'two-sided')\n",
    "\n",
    "if p_val_man >= sig_lv:\n",
    "    print(f'Enhancern und Promotoren haben gleiche Verteilung der GC-Anteil (p-value = {p_val_man})')\n",
    "else:\n",
    "    print(f'Die Verteilungen der GC-Anteil der Enhancern und Promotoren sind signifikant (p-value = {p_val_man})')        "
   ]
  },
  {
   "cell_type": "markdown",
   "id": "7d862390",
   "metadata": {},
   "source": [
    "# Klassifikation: Unterschied zwischen Enhancern Promotoren anhand 2 meren Nukleotiden\n",
    "\n",
    "In diesem Abschnitt werden die Anteile der Dinukleotide gezählt. Diese dienen als Merkmale, die den Sequenztyp repräsentieren, unabhängig davon, ob es sich um einen Enhancer oder einen Promotor handelt. Die Klassifikation erfolgt mithilfe von Random Forest- und KNN-Modellen. Diese Modelle werden verwendet, um vorherzusagen, ob eine Sequenz als Enhancer oder Promotor klassifiziert werden kann."
   ]
  },
  {
   "cell_type": "markdown",
   "id": "13042ca0",
   "metadata": {},
   "source": [
    "## Vorbereiten der Dinukleotiden-Anteile (Anteile der 2-mere-Nukleotiden)"
   ]
  },
  {
   "cell_type": "code",
   "execution_count": 18,
   "id": "66aaf028",
   "metadata": {},
   "outputs": [
    {
     "data": {
      "text/plain": [
       "['AA',\n",
       " 'AT',\n",
       " 'AG',\n",
       " 'AC',\n",
       " 'TA',\n",
       " 'TT',\n",
       " 'TG',\n",
       " 'TC',\n",
       " 'GA',\n",
       " 'GT',\n",
       " 'GG',\n",
       " 'GC',\n",
       " 'CA',\n",
       " 'CT',\n",
       " 'CG',\n",
       " 'CC']"
      ]
     },
     "execution_count": 18,
     "metadata": {},
     "output_type": "execute_result"
    }
   ],
   "source": [
    "# Erstellen die Liste von allen möglichen 2-meren Nukleotiden \n",
    "_2mer = []\n",
    "nu = ['A', 'T', 'G', 'C']\n",
    "for i in nu:\n",
    "    _2mer.extend([i + n for n in nu])\n",
    "    \n",
    "_2mer"
   ]
  },
  {
   "cell_type": "code",
   "execution_count": 19,
   "id": "3972b8ce",
   "metadata": {},
   "outputs": [],
   "source": [
    "# Funktion: Berechnen die Anteile alle 2-meren Nukleotiden in jeder Sequenzen\n",
    "# Formel für Anzahl möglichen Nukleotidenpaare in einer Sequenz = n - 2 + 1 (n ist die Anzahl der Nukleotide in dieser Sequenz)\n",
    "def add_col_for_2mer(df: pd.DataFrame):\n",
    "    for pair in _2mer:\n",
    "        df[pair] = df.apply(lambda row: row['seq'].count(pair) / (len(row['seq']) - 2 + 1), axis = 1)"
   ]
  },
  {
   "cell_type": "code",
   "execution_count": 20,
   "id": "042ad82b",
   "metadata": {},
   "outputs": [],
   "source": [
    "add_col_for_2mer(df_enhancers)\n",
    "add_col_for_2mer(df_promotors)"
   ]
  },
  {
   "cell_type": "code",
   "execution_count": 21,
   "id": "dce49034",
   "metadata": {},
   "outputs": [],
   "source": [
    "# Addieren Klasse-Spalte, um die Daten zu unterscheiden, wenn beide Dataframes verkettet werden\n",
    "df_enhancers['class'] = 'enhancer'\n",
    "df_promotors['class'] = 'promotor'"
   ]
  },
  {
   "cell_type": "code",
   "execution_count": 22,
   "id": "27c327f5",
   "metadata": {
    "collapsed": true
   },
   "outputs": [
    {
     "data": {
      "text/html": [
       "<div>\n",
       "<style scoped>\n",
       "    .dataframe tbody tr th:only-of-type {\n",
       "        vertical-align: middle;\n",
       "    }\n",
       "\n",
       "    .dataframe tbody tr th {\n",
       "        vertical-align: top;\n",
       "    }\n",
       "\n",
       "    .dataframe thead th {\n",
       "        text-align: right;\n",
       "    }\n",
       "</style>\n",
       "<table border=\"1\" class=\"dataframe\">\n",
       "  <thead>\n",
       "    <tr style=\"text-align: right;\">\n",
       "      <th></th>\n",
       "      <th>seq</th>\n",
       "      <th>gc_amount</th>\n",
       "      <th>AA</th>\n",
       "      <th>AT</th>\n",
       "      <th>AG</th>\n",
       "      <th>AC</th>\n",
       "      <th>TA</th>\n",
       "      <th>TT</th>\n",
       "      <th>TG</th>\n",
       "      <th>TC</th>\n",
       "      <th>GA</th>\n",
       "      <th>GT</th>\n",
       "      <th>GG</th>\n",
       "      <th>GC</th>\n",
       "      <th>CA</th>\n",
       "      <th>CT</th>\n",
       "      <th>CG</th>\n",
       "      <th>CC</th>\n",
       "      <th>class</th>\n",
       "    </tr>\n",
       "  </thead>\n",
       "  <tbody>\n",
       "    <tr>\n",
       "      <th>0</th>\n",
       "      <td>(C, C, G, C, C, G, T, T, G, C, A, A, A, G, G, ...</td>\n",
       "      <td>0.429431</td>\n",
       "      <td>0.072356</td>\n",
       "      <td>0.072685</td>\n",
       "      <td>0.073117</td>\n",
       "      <td>0.053051</td>\n",
       "      <td>0.061073</td>\n",
       "      <td>0.059268</td>\n",
       "      <td>0.069934</td>\n",
       "      <td>0.058998</td>\n",
       "      <td>0.060701</td>\n",
       "      <td>0.046259</td>\n",
       "      <td>0.045030</td>\n",
       "      <td>0.047769</td>\n",
       "      <td>0.077080</td>\n",
       "      <td>0.071061</td>\n",
       "      <td>0.011679</td>\n",
       "      <td>0.045593</td>\n",
       "      <td>enhancer</td>\n",
       "    </tr>\n",
       "    <tr>\n",
       "      <th>1</th>\n",
       "      <td>(G, A, T, T, C, A, T, G, G, C, T, G, A, A, A, ...</td>\n",
       "      <td>0.391445</td>\n",
       "      <td>0.078460</td>\n",
       "      <td>0.082852</td>\n",
       "      <td>0.069452</td>\n",
       "      <td>0.053150</td>\n",
       "      <td>0.070495</td>\n",
       "      <td>0.066748</td>\n",
       "      <td>0.072306</td>\n",
       "      <td>0.059577</td>\n",
       "      <td>0.060743</td>\n",
       "      <td>0.049205</td>\n",
       "      <td>0.036252</td>\n",
       "      <td>0.039205</td>\n",
       "      <td>0.074217</td>\n",
       "      <td>0.070346</td>\n",
       "      <td>0.007370</td>\n",
       "      <td>0.037518</td>\n",
       "      <td>enhancer</td>\n",
       "    </tr>\n",
       "    <tr>\n",
       "      <th>2</th>\n",
       "      <td>(G, A, T, C, C, T, T, G, A, A, G, C, G, C, C, ...</td>\n",
       "      <td>0.428906</td>\n",
       "      <td>0.073188</td>\n",
       "      <td>0.074309</td>\n",
       "      <td>0.072103</td>\n",
       "      <td>0.058585</td>\n",
       "      <td>0.060261</td>\n",
       "      <td>0.055277</td>\n",
       "      <td>0.068589</td>\n",
       "      <td>0.058925</td>\n",
       "      <td>0.062242</td>\n",
       "      <td>0.046859</td>\n",
       "      <td>0.044133</td>\n",
       "      <td>0.044573</td>\n",
       "      <td>0.082494</td>\n",
       "      <td>0.066608</td>\n",
       "      <td>0.012981</td>\n",
       "      <td>0.044869</td>\n",
       "      <td>enhancer</td>\n",
       "    </tr>\n",
       "    <tr>\n",
       "      <th>3</th>\n",
       "      <td>(C, T, G, C, C, C, T, T, G, C, T, G, A, C, C, ...</td>\n",
       "      <td>0.564309</td>\n",
       "      <td>0.038431</td>\n",
       "      <td>0.036582</td>\n",
       "      <td>0.075059</td>\n",
       "      <td>0.049518</td>\n",
       "      <td>0.025595</td>\n",
       "      <td>0.040976</td>\n",
       "      <td>0.081462</td>\n",
       "      <td>0.058854</td>\n",
       "      <td>0.060306</td>\n",
       "      <td>0.054942</td>\n",
       "      <td>0.074716</td>\n",
       "      <td>0.076144</td>\n",
       "      <td>0.075258</td>\n",
       "      <td>0.074387</td>\n",
       "      <td>0.034871</td>\n",
       "      <td>0.066831</td>\n",
       "      <td>enhancer</td>\n",
       "    </tr>\n",
       "    <tr>\n",
       "      <th>4</th>\n",
       "      <td>(C, A, G, T, C, C, C, A, G, C, G, G, A, C, A, ...</td>\n",
       "      <td>0.572551</td>\n",
       "      <td>0.027586</td>\n",
       "      <td>0.031163</td>\n",
       "      <td>0.071236</td>\n",
       "      <td>0.043123</td>\n",
       "      <td>0.026137</td>\n",
       "      <td>0.050717</td>\n",
       "      <td>0.088858</td>\n",
       "      <td>0.062831</td>\n",
       "      <td>0.052604</td>\n",
       "      <td>0.072179</td>\n",
       "      <td>0.081484</td>\n",
       "      <td>0.071060</td>\n",
       "      <td>0.066781</td>\n",
       "      <td>0.074484</td>\n",
       "      <td>0.035772</td>\n",
       "      <td>0.068822</td>\n",
       "      <td>enhancer</td>\n",
       "    </tr>\n",
       "    <tr>\n",
       "      <th>...</th>\n",
       "      <td>...</td>\n",
       "      <td>...</td>\n",
       "      <td>...</td>\n",
       "      <td>...</td>\n",
       "      <td>...</td>\n",
       "      <td>...</td>\n",
       "      <td>...</td>\n",
       "      <td>...</td>\n",
       "      <td>...</td>\n",
       "      <td>...</td>\n",
       "      <td>...</td>\n",
       "      <td>...</td>\n",
       "      <td>...</td>\n",
       "      <td>...</td>\n",
       "      <td>...</td>\n",
       "      <td>...</td>\n",
       "      <td>...</td>\n",
       "      <td>...</td>\n",
       "      <td>...</td>\n",
       "    </tr>\n",
       "    <tr>\n",
       "      <th>385</th>\n",
       "      <td>(G, A, T, G, G, G, C, C, C, C, T, G, T, A, G, ...</td>\n",
       "      <td>0.497992</td>\n",
       "      <td>0.052668</td>\n",
       "      <td>0.050668</td>\n",
       "      <td>0.076805</td>\n",
       "      <td>0.050737</td>\n",
       "      <td>0.043133</td>\n",
       "      <td>0.052113</td>\n",
       "      <td>0.071320</td>\n",
       "      <td>0.064838</td>\n",
       "      <td>0.059874</td>\n",
       "      <td>0.047434</td>\n",
       "      <td>0.057996</td>\n",
       "      <td>0.058325</td>\n",
       "      <td>0.075203</td>\n",
       "      <td>0.081190</td>\n",
       "      <td>0.017502</td>\n",
       "      <td>0.063167</td>\n",
       "      <td>promotor</td>\n",
       "    </tr>\n",
       "    <tr>\n",
       "      <th>386</th>\n",
       "      <td>(A, G, C, C, C, T, C, C, C, C, C, C, A, C, T, ...</td>\n",
       "      <td>0.508756</td>\n",
       "      <td>0.045737</td>\n",
       "      <td>0.047901</td>\n",
       "      <td>0.079671</td>\n",
       "      <td>0.047476</td>\n",
       "      <td>0.040588</td>\n",
       "      <td>0.052834</td>\n",
       "      <td>0.077365</td>\n",
       "      <td>0.063712</td>\n",
       "      <td>0.061252</td>\n",
       "      <td>0.050775</td>\n",
       "      <td>0.061609</td>\n",
       "      <td>0.062090</td>\n",
       "      <td>0.073202</td>\n",
       "      <td>0.082989</td>\n",
       "      <td>0.017081</td>\n",
       "      <td>0.062115</td>\n",
       "      <td>promotor</td>\n",
       "    </tr>\n",
       "    <tr>\n",
       "      <th>387</th>\n",
       "      <td>(C, T, C, C, A, T, G, T, G, G, T, G, A, C, A, ...</td>\n",
       "      <td>0.476493</td>\n",
       "      <td>0.057797</td>\n",
       "      <td>0.056616</td>\n",
       "      <td>0.075753</td>\n",
       "      <td>0.051882</td>\n",
       "      <td>0.049217</td>\n",
       "      <td>0.055104</td>\n",
       "      <td>0.072993</td>\n",
       "      <td>0.060283</td>\n",
       "      <td>0.060179</td>\n",
       "      <td>0.048527</td>\n",
       "      <td>0.054509</td>\n",
       "      <td>0.056682</td>\n",
       "      <td>0.074855</td>\n",
       "      <td>0.077350</td>\n",
       "      <td>0.016642</td>\n",
       "      <td>0.056711</td>\n",
       "      <td>promotor</td>\n",
       "    </tr>\n",
       "    <tr>\n",
       "      <th>388</th>\n",
       "      <td>(T, C, A, C, C, C, C, A, G, C, T, T, G, T, T, ...</td>\n",
       "      <td>0.501508</td>\n",
       "      <td>0.052304</td>\n",
       "      <td>0.051067</td>\n",
       "      <td>0.080967</td>\n",
       "      <td>0.049917</td>\n",
       "      <td>0.042606</td>\n",
       "      <td>0.049824</td>\n",
       "      <td>0.072506</td>\n",
       "      <td>0.063768</td>\n",
       "      <td>0.062783</td>\n",
       "      <td>0.048354</td>\n",
       "      <td>0.059719</td>\n",
       "      <td>0.059054</td>\n",
       "      <td>0.076567</td>\n",
       "      <td>0.079453</td>\n",
       "      <td>0.016719</td>\n",
       "      <td>0.061559</td>\n",
       "      <td>promotor</td>\n",
       "    </tr>\n",
       "    <tr>\n",
       "      <th>389</th>\n",
       "      <td>(C, A, G, A, G, C, C, T, T, A, A, G, C, A, A, ...</td>\n",
       "      <td>0.513124</td>\n",
       "      <td>0.046016</td>\n",
       "      <td>0.045947</td>\n",
       "      <td>0.080431</td>\n",
       "      <td>0.046590</td>\n",
       "      <td>0.038715</td>\n",
       "      <td>0.053097</td>\n",
       "      <td>0.074907</td>\n",
       "      <td>0.065405</td>\n",
       "      <td>0.063659</td>\n",
       "      <td>0.049692</td>\n",
       "      <td>0.063583</td>\n",
       "      <td>0.060783</td>\n",
       "      <td>0.070594</td>\n",
       "      <td>0.083388</td>\n",
       "      <td>0.018796</td>\n",
       "      <td>0.063022</td>\n",
       "      <td>promotor</td>\n",
       "    </tr>\n",
       "  </tbody>\n",
       "</table>\n",
       "<p>390 rows × 19 columns</p>\n",
       "</div>"
      ],
      "text/plain": [
       "                                                   seq  gc_amount        AA  \\\n",
       "0    (C, C, G, C, C, G, T, T, G, C, A, A, A, G, G, ...   0.429431  0.072356   \n",
       "1    (G, A, T, T, C, A, T, G, G, C, T, G, A, A, A, ...   0.391445  0.078460   \n",
       "2    (G, A, T, C, C, T, T, G, A, A, G, C, G, C, C, ...   0.428906  0.073188   \n",
       "3    (C, T, G, C, C, C, T, T, G, C, T, G, A, C, C, ...   0.564309  0.038431   \n",
       "4    (C, A, G, T, C, C, C, A, G, C, G, G, A, C, A, ...   0.572551  0.027586   \n",
       "..                                                 ...        ...       ...   \n",
       "385  (G, A, T, G, G, G, C, C, C, C, T, G, T, A, G, ...   0.497992  0.052668   \n",
       "386  (A, G, C, C, C, T, C, C, C, C, C, C, A, C, T, ...   0.508756  0.045737   \n",
       "387  (C, T, C, C, A, T, G, T, G, G, T, G, A, C, A, ...   0.476493  0.057797   \n",
       "388  (T, C, A, C, C, C, C, A, G, C, T, T, G, T, T, ...   0.501508  0.052304   \n",
       "389  (C, A, G, A, G, C, C, T, T, A, A, G, C, A, A, ...   0.513124  0.046016   \n",
       "\n",
       "           AT        AG        AC        TA        TT        TG        TC  \\\n",
       "0    0.072685  0.073117  0.053051  0.061073  0.059268  0.069934  0.058998   \n",
       "1    0.082852  0.069452  0.053150  0.070495  0.066748  0.072306  0.059577   \n",
       "2    0.074309  0.072103  0.058585  0.060261  0.055277  0.068589  0.058925   \n",
       "3    0.036582  0.075059  0.049518  0.025595  0.040976  0.081462  0.058854   \n",
       "4    0.031163  0.071236  0.043123  0.026137  0.050717  0.088858  0.062831   \n",
       "..        ...       ...       ...       ...       ...       ...       ...   \n",
       "385  0.050668  0.076805  0.050737  0.043133  0.052113  0.071320  0.064838   \n",
       "386  0.047901  0.079671  0.047476  0.040588  0.052834  0.077365  0.063712   \n",
       "387  0.056616  0.075753  0.051882  0.049217  0.055104  0.072993  0.060283   \n",
       "388  0.051067  0.080967  0.049917  0.042606  0.049824  0.072506  0.063768   \n",
       "389  0.045947  0.080431  0.046590  0.038715  0.053097  0.074907  0.065405   \n",
       "\n",
       "           GA        GT        GG        GC        CA        CT        CG  \\\n",
       "0    0.060701  0.046259  0.045030  0.047769  0.077080  0.071061  0.011679   \n",
       "1    0.060743  0.049205  0.036252  0.039205  0.074217  0.070346  0.007370   \n",
       "2    0.062242  0.046859  0.044133  0.044573  0.082494  0.066608  0.012981   \n",
       "3    0.060306  0.054942  0.074716  0.076144  0.075258  0.074387  0.034871   \n",
       "4    0.052604  0.072179  0.081484  0.071060  0.066781  0.074484  0.035772   \n",
       "..        ...       ...       ...       ...       ...       ...       ...   \n",
       "385  0.059874  0.047434  0.057996  0.058325  0.075203  0.081190  0.017502   \n",
       "386  0.061252  0.050775  0.061609  0.062090  0.073202  0.082989  0.017081   \n",
       "387  0.060179  0.048527  0.054509  0.056682  0.074855  0.077350  0.016642   \n",
       "388  0.062783  0.048354  0.059719  0.059054  0.076567  0.079453  0.016719   \n",
       "389  0.063659  0.049692  0.063583  0.060783  0.070594  0.083388  0.018796   \n",
       "\n",
       "           CC     class  \n",
       "0    0.045593  enhancer  \n",
       "1    0.037518  enhancer  \n",
       "2    0.044869  enhancer  \n",
       "3    0.066831  enhancer  \n",
       "4    0.068822  enhancer  \n",
       "..        ...       ...  \n",
       "385  0.063167  promotor  \n",
       "386  0.062115  promotor  \n",
       "387  0.056711  promotor  \n",
       "388  0.061559  promotor  \n",
       "389  0.063022  promotor  \n",
       "\n",
       "[390 rows x 19 columns]"
      ]
     },
     "execution_count": 22,
     "metadata": {},
     "output_type": "execute_result"
    }
   ],
   "source": [
    "# Verketten beide Dataframes von Enhancern und Promotoren\n",
    "combine_df_2mer = pd.concat([df_enhancers, df_promotors], ignore_index= True)\n",
    "combine_df_2mer"
   ]
  },
  {
   "cell_type": "code",
   "execution_count": 56,
   "id": "e41e7c14",
   "metadata": {
    "collapsed": true
   },
   "outputs": [
    {
     "data": {
      "text/html": [
       "<div>\n",
       "<style scoped>\n",
       "    .dataframe tbody tr th:only-of-type {\n",
       "        vertical-align: middle;\n",
       "    }\n",
       "\n",
       "    .dataframe tbody tr th {\n",
       "        vertical-align: top;\n",
       "    }\n",
       "\n",
       "    .dataframe thead th {\n",
       "        text-align: right;\n",
       "    }\n",
       "</style>\n",
       "<table border=\"1\" class=\"dataframe\">\n",
       "  <thead>\n",
       "    <tr style=\"text-align: right;\">\n",
       "      <th></th>\n",
       "      <th>seq</th>\n",
       "    </tr>\n",
       "  </thead>\n",
       "  <tbody>\n",
       "    <tr>\n",
       "      <th>0</th>\n",
       "      <td>(C, C, G, C, C, G, T, T, G, C, A, A, A, G, G, ...</td>\n",
       "    </tr>\n",
       "    <tr>\n",
       "      <th>1</th>\n",
       "      <td>(G, A, T, T, C, A, T, G, G, C, T, G, A, A, A, ...</td>\n",
       "    </tr>\n",
       "    <tr>\n",
       "      <th>2</th>\n",
       "      <td>(G, A, T, C, C, T, T, G, A, A, G, C, G, C, C, ...</td>\n",
       "    </tr>\n",
       "    <tr>\n",
       "      <th>3</th>\n",
       "      <td>(C, T, G, C, C, C, T, T, G, C, T, G, A, C, C, ...</td>\n",
       "    </tr>\n",
       "    <tr>\n",
       "      <th>4</th>\n",
       "      <td>(C, A, G, T, C, C, C, A, G, C, G, G, A, C, A, ...</td>\n",
       "    </tr>\n",
       "    <tr>\n",
       "      <th>...</th>\n",
       "      <td>...</td>\n",
       "    </tr>\n",
       "    <tr>\n",
       "      <th>385</th>\n",
       "      <td>(G, A, T, G, G, G, C, C, C, C, T, G, T, A, G, ...</td>\n",
       "    </tr>\n",
       "    <tr>\n",
       "      <th>386</th>\n",
       "      <td>(A, G, C, C, C, T, C, C, C, C, C, C, A, C, T, ...</td>\n",
       "    </tr>\n",
       "    <tr>\n",
       "      <th>387</th>\n",
       "      <td>(C, T, C, C, A, T, G, T, G, G, T, G, A, C, A, ...</td>\n",
       "    </tr>\n",
       "    <tr>\n",
       "      <th>388</th>\n",
       "      <td>(T, C, A, C, C, C, C, A, G, C, T, T, G, T, T, ...</td>\n",
       "    </tr>\n",
       "    <tr>\n",
       "      <th>389</th>\n",
       "      <td>(C, A, G, A, G, C, C, T, T, A, A, G, C, A, A, ...</td>\n",
       "    </tr>\n",
       "  </tbody>\n",
       "</table>\n",
       "<p>390 rows × 1 columns</p>\n",
       "</div>"
      ],
      "text/plain": [
       "                                                   seq\n",
       "0    (C, C, G, C, C, G, T, T, G, C, A, A, A, G, G, ...\n",
       "1    (G, A, T, T, C, A, T, G, G, C, T, G, A, A, A, ...\n",
       "2    (G, A, T, C, C, T, T, G, A, A, G, C, G, C, C, ...\n",
       "3    (C, T, G, C, C, C, T, T, G, C, T, G, A, C, C, ...\n",
       "4    (C, A, G, T, C, C, C, A, G, C, G, G, A, C, A, ...\n",
       "..                                                 ...\n",
       "385  (G, A, T, G, G, G, C, C, C, C, T, G, T, A, G, ...\n",
       "386  (A, G, C, C, C, T, C, C, C, C, C, C, A, C, T, ...\n",
       "387  (C, T, C, C, A, T, G, T, G, G, T, G, A, C, A, ...\n",
       "388  (T, C, A, C, C, C, C, A, G, C, T, T, G, T, T, ...\n",
       "389  (C, A, G, A, G, C, C, T, T, A, A, G, C, A, A, ...\n",
       "\n",
       "[390 rows x 1 columns]"
      ]
     },
     "execution_count": 56,
     "metadata": {},
     "output_type": "execute_result"
    }
   ],
   "source": [
    "# Erstellen eine Liste von zufälligen Sequenzen aus vorhanden Sequenzen\n",
    "import numpy as np\n",
    "from Bio.Seq import Seq\n",
    "np.random.seed(14)\n",
    "def new_seq(seq: Seq):\n",
    "    np.random.shuffle(list(seq))\n",
    "    return Seq(''.join(seq))\n",
    "\n",
    "shuffle_seq = pd.DataFrame({'seq': [new_seq(seq) for seq in combine_df_2mer['seq']]})"
   ]
  },
  {
   "cell_type": "code",
   "execution_count": 62,
   "id": "f36b2b86",
   "metadata": {},
   "outputs": [
    {
     "data": {
      "text/plain": [
       "pandas.core.series.Series"
      ]
     },
     "execution_count": 62,
     "metadata": {},
     "output_type": "execute_result"
    }
   ],
   "source": []
  },
  {
   "cell_type": "code",
   "execution_count": null,
   "id": "dd77ddc5",
   "metadata": {},
   "outputs": [],
   "source": [
    "# Halten nur die Spalten über 2-mere Nukleotid und Klasse\n",
    "combine_df_2mer = combine_df_2mer[_2mer + ['class']]\n",
    "combine_df_2mer"
   ]
  },
  {
   "cell_type": "markdown",
   "id": "f453132a",
   "metadata": {},
   "source": [
    "## Klassifikation mit Random Forest\n",
    "\n",
    "Die Standardparameter für Entscheidungsbäume im Random Forest wurden standardmäßig beibehalten. Die Anzahl der Bäume für den Wald (n_estimators) beträgt 50."
   ]
  },
  {
   "cell_type": "code",
   "execution_count": null,
   "id": "9f6d811f",
   "metadata": {},
   "outputs": [],
   "source": [
    "from sklearn.model_selection import train_test_split\n",
    "from sklearn.ensemble import RandomForestClassifier\n",
    "\n",
    "# Daten für das Training aufteilen\n",
    "# Anteil der Daten für Training und Test Data 80:20\n",
    "# Random_state: speichert den zufälligen Zustand, damit das Ergebnis nach mehrmale Ausführung nicht geändert wird\n",
    "# Shuffle Daten vor der Aufteilung\n",
    "X_train, X_test, y_train, y_test = train_test_split(combine_df_2mer.loc[:, combine_df_2mer.columns != 'class'], combine_df_2mer['class'], test_size = 0.2, random_state = 13, shuffle = True)\n",
    "\n",
    "# Erstellen Klassifikator\n",
    "classifier = RandomForestClassifier(n_estimators=50, random_state = 13)\n",
    "\n",
    "# Trainieren Klassifikator\n",
    "classifier.fit(X_train, y_train)"
   ]
  },
  {
   "cell_type": "code",
   "execution_count": null,
   "id": "63ade965",
   "metadata": {},
   "outputs": [],
   "source": [
    "# Vorhersagen auf Testdaten\n",
    "y_pred_rd = classifier.predict(X_test)"
   ]
  },
  {
   "cell_type": "code",
   "execution_count": null,
   "id": "591e9882",
   "metadata": {},
   "outputs": [],
   "source": [
    "from sklearn.metrics import accuracy_score, confusion_matrix, ConfusionMatrixDisplay, classification_report"
   ]
  },
  {
   "cell_type": "code",
   "execution_count": null,
   "id": "478f7390",
   "metadata": {},
   "outputs": [],
   "source": [
    "# Auswerten die Genauigkeit\n",
    "accuracy_rd = accuracy_score(y_test, y_pred_rd)\n",
    "print(f'Accuracy: {accuracy_rd}')"
   ]
  },
  {
   "cell_type": "code",
   "execution_count": null,
   "id": "f9ad75b1",
   "metadata": {},
   "outputs": [],
   "source": [
    "# Konfusionsmatrix\n",
    "conf_matrix_rd = confusion_matrix(y_test, y_pred_rd, normalize='true')"
   ]
  },
  {
   "cell_type": "code",
   "execution_count": null,
   "id": "e1053031",
   "metadata": {
    "scrolled": false
   },
   "outputs": [],
   "source": [
    "# Visualisieren die Konfusionsmatrizen\n",
    "def display_conf_matrix(confusion_matrix):\n",
    "    ConfusionMatrixDisplay(confusion_matrix=confusion_matrix, display_labels=classifier.classes_).plot()\n",
    "    plt.title(f'Konfusionsmatrix von Testdaten')\n",
    "    plt.xlabel('Predict')\n",
    "    plt.ylabel('True')\n",
    "    plt.show()\n",
    "\n",
    "print(conf_matrix_rd)\n",
    "display_conf_matrix(conf_matrix_rd)\n"
   ]
  },
  {
   "cell_type": "code",
   "execution_count": null,
   "id": "b5cd4624",
   "metadata": {
    "scrolled": true
   },
   "outputs": [],
   "source": [
    "report_rd = classification_report(y_test, y_pred_rd)\n",
    "print(report_rd)"
   ]
  },
  {
   "cell_type": "markdown",
   "id": "db10c79f",
   "metadata": {},
   "source": [
    "**Fazit von Random Forest:** \n",
    "\n",
    "Die Genauigkeit ist ganz hoch (83 %). \n",
    "\n",
    "Der Recall von 0.94 sowie die Percision von 0.82 an der  Promotoren-Klasse weist darauf hin, dass das Modell Promotoren gut erkennen kann. Enhancer wurden mit einer Genauigkeit von 86 % erkannt, was darauf hinweist, dass das Modell Enhancer gut vorhersagen kann. Allerdings wurden nur 64 % der insgesamt vorhandenen Enhancer identifiziert. Dies legt nahe, dass dem Modell möglicherweise immer noch Enhancer entgehen können."
   ]
  },
  {
   "cell_type": "markdown",
   "id": "45426782",
   "metadata": {},
   "source": [
    "## Klassifikation mit KNN (K-Nearest Neigbors)"
   ]
  },
  {
   "cell_type": "code",
   "execution_count": null,
   "id": "320c3fda",
   "metadata": {
    "scrolled": false
   },
   "outputs": [],
   "source": [
    "from sklearn.neighbors import KNeighborsClassifier\n",
    "\n",
    "# Erstellen KneighborsClassifier\n",
    "knn_classifier = KNeighborsClassifier(n_neighbors=5) # parameter n_neighbors = 5 default\n",
    "\n",
    "# Trainieren classifier\n",
    "knn_classifier.fit(X_train, y_train)\n",
    "\n",
    "# Make prediction\n",
    "y_pred_knn = knn_classifier.predict(X_test)\n",
    "\n",
    "accuracy_knn = accuracy_score(y_test, y_pred_knn)\n",
    "print('Accuracy score =', accuracy_knn)"
   ]
  },
  {
   "cell_type": "code",
   "execution_count": null,
   "id": "26aaaf94",
   "metadata": {},
   "outputs": [],
   "source": [
    "conf_matrix_knn = confusion_matrix(y_test, y_pred_knn, normalize='true')\n",
    "conf_matrix_knn"
   ]
  },
  {
   "cell_type": "code",
   "execution_count": null,
   "id": "09f36797",
   "metadata": {},
   "outputs": [],
   "source": [
    "display_conf_matrix(conf_matrix_knn)"
   ]
  },
  {
   "cell_type": "code",
   "execution_count": null,
   "id": "63c0b98c",
   "metadata": {
    "scrolled": false
   },
   "outputs": [],
   "source": [
    "report_knn = classification_report(y_test, y_pred_knn)\n",
    "print(report_knn)"
   ]
  },
  {
   "cell_type": "markdown",
   "id": "fd353182",
   "metadata": {},
   "source": [
    "**Fazit von KNN:** \n",
    "\n",
    "Die Genauigkeit ist gering (0.77) im Vergleich zum Random Forest Modell\n",
    "\n",
    "Der höhere Recall (0,92) für die Promotoren-Klasse zeigt, dass das KNN-Modell Promotoren gut erkennen kann. Im Gegensatz dazu beträgt der Recall für die Enhancer-Klasse 0,5, was darauf hindeutet, dass das Modell bei der korrekten Erkennung von Enhancern nicht so gut abschneidet. Die Präzision für beide Klassen liegt ebenfalls unter 80 % (78 % und 77 %), was bedeutet, dass es relativ wenige falsch positive Vorhersagen gibt.\n",
    "\n",
    "**Zusammenfassung:**\n",
    "\n",
    "Die Verwendung der Anteile der Dinukleotide als Merkmale für zwei Klassen, nämlich Enhancer und Promotoren, zeigt, dass der Random Forest bessere Vorhersagen im Vergleich zur KNN-Klassifikation treffen kann. Dennoch ist es notwendig, dass beide Modelle ihre Präzision verbessern. Die Merkmale, die zur Unterscheidung der beiden Klassen verwendet werden (2-mere Nukleotide), sind möglicherweise nicht optimal und könnten das Training der Modelle beeinträchtigen."
   ]
  },
  {
   "cell_type": "markdown",
   "id": "446ef83d",
   "metadata": {},
   "source": [
    "## Addieren eine Klasse von zufälligen Sequenzen"
   ]
  },
  {
   "cell_type": "code",
   "execution_count": null,
   "id": "3eef6cd1",
   "metadata": {},
   "outputs": [],
   "source": [
    "import numpy as np\n",
    "\n",
    "np.random.seed(14)\n",
    "shuffle_sequences = df['e']\n",
    "shuffle_sequences"
   ]
  },
  {
   "cell_type": "markdown",
   "id": "6af2b500",
   "metadata": {},
   "source": [
    "# Längenverteilung von Enhancers und Promotoren\n",
    "\n",
    "## Lesen CSV-Datei\n",
    "\n",
    "- Die Datei beinhaltet die Infos der verbundenen/gepaaren Enhancern und Promotoren\n",
    "\n",
    "- Halten nur 1000 ersten Zeile der Daten"
   ]
  },
  {
   "cell_type": "code",
   "execution_count": null,
   "id": "2a2c3649",
   "metadata": {
    "scrolled": true
   },
   "outputs": [],
   "source": [
    "df_pair = pd.read_csv('pairs.csv')\n",
    "df_pair = df_pair.iloc[:1000]"
   ]
  },
  {
   "cell_type": "markdown",
   "id": "24d40954",
   "metadata": {},
   "source": [
    "## Berechnen die Längen der Enhancern und Promotoren"
   ]
  },
  {
   "cell_type": "code",
   "execution_count": null,
   "id": "d7353faa",
   "metadata": {},
   "outputs": [],
   "source": [
    "# Erstellen die Listen, die die Längen der Enhancern und ihrer entsprechenden Promotoren enthalten\n",
    "len_en = []\n",
    "len_pr = []\n",
    "for i in range(len(df_pair)):\n",
    "    len_en.append(df_pair.iloc[i]['enhancer_end'] - df_pair.iloc[i]['enhancer_start'])\n",
    "    len_pr.append(df_pair.iloc[i]['promoter_end'] - df_pair.iloc[i]['promoter_start'])"
   ]
  },
  {
   "cell_type": "markdown",
   "id": "b493a1f0",
   "metadata": {},
   "source": [
    "## Visualisieren die Daten\n",
    "\n",
    "- Die Verteilungen die Sequenzlängen bei Enhancern und Promotoren\n",
    "\n",
    "- Scatterplot von Sequenzlängen bei den gepaaren Enhancern und Promotoren"
   ]
  },
  {
   "cell_type": "code",
   "execution_count": null,
   "id": "fc7faa45",
   "metadata": {},
   "outputs": [],
   "source": [
    "# Erstellen die Plots der Verteilungen von Sequenzlängen bei Enhancern und Promotoren\n",
    "fig, axs = plt.subplots(1, 2, figsize=(10, 5))\n",
    "\n",
    "axs[0].hist(len_en, rwidth = 0.7, color = 'darkorange')\n",
    "axs[0].legend('Enhancern')\n",
    "axs[1].hist(len_pr, rwidth = 0.7, color = 'green')\n",
    "axs[1].legend('Promotoren')\n",
    "\n",
    "# Setzen die Labels der Achsen und beschriften die Plots\n",
    "fig.text(0.5, 0,'Längen der Sequenzen', ha='center')\n",
    "fig.text(0.05, 0.5,'Häufigkeit der Längen', va='center', rotation = 'vertical')\n",
    "fig.text(0.5, 0.9, 'Verteilungen der Sequenzlängen bei Enhancern und Promotoren', ha='center', fontsize='large')\n",
    "\n",
    "plt.show()"
   ]
  },
  {
   "cell_type": "code",
   "execution_count": null,
   "id": "bb02b0c9",
   "metadata": {},
   "outputs": [],
   "source": [
    "plt.scatter(len_en, len_pr, color='darkblue', marker='o',s=10, alpha=0.5)\n",
    "plt.xlabel('Längen von Enhancern')\n",
    "plt.ylabel('Längen von Promotoren')\n",
    "plt.title('Korrelation zwischen den Längen von Enhancern und Promotoren')\n",
    "plt.show()"
   ]
  },
  {
   "cell_type": "markdown",
   "id": "fd7d9347",
   "metadata": {},
   "source": [
    "## Korrelation zwischen den Längenverteilungen von Enhancern und Promotoren\n",
    "\n",
    "Anhand des obigen Scatterplot sieht man keine lineare Zusammenhang zwischen die Längen von Enhancern und Promotoren. Die monotone Beziehung ist aber auch nicht deutlich.\n",
    "\n",
    "=> Wählen zwei Korrelationsmethoden: Spearman und Kendall-Tau, um did monotone Beziehung zwischen beiden Stichproben zu sowie ihre Korrelation zu bewerten  \n",
    "\n",
    "Korrelationskoeffizient in [-1, 1]:\n",
    "- geht nah zu 0 => keine Korrelation\n",
    "- geht nah zur Grenze  => negative/positive Korrelation \n",
    "\n",
    "**Nullhypothese:** Keine Korrelation zwischen Sequenzlängen von Enhancern und Promotoren\n",
    "\n",
    "Signifikantslevel = 0.05"
   ]
  },
  {
   "cell_type": "code",
   "execution_count": null,
   "id": "ec91d982",
   "metadata": {},
   "outputs": [],
   "source": [
    "# Korrelationskoeffizienzen (Pearson, Spearman, Kendall-Tau)\n",
    "spea_cor_coef, spea_p_val = stats.spearmanr(len_en, len_pr)\n",
    "ken_cor_coef, ken_p_val = stats.kendalltau(len_en, len_pr)"
   ]
  },
  {
   "cell_type": "code",
   "execution_count": null,
   "id": "a1c8f691",
   "metadata": {
    "scrolled": true
   },
   "outputs": [],
   "source": [
    "# Interpretieren die Ergebnisse\n",
    "sig_lv = 0.05\n",
    "\n",
    "cor_method = {'Spearman': [spea_cor_coef, spea_p_val],\n",
    "             'Kendall-Tau': [ken_cor_coef, ken_p_val]}\n",
    "\n",
    "for method in cor_method.keys():\n",
    "    print(method)\n",
    "    print(f'  Korrelationskoeffizient = {cor_method[method][0]}')\n",
    "    if cor_method[method][0] <= -0.5:\n",
    "        print('  Negative Korrelation')\n",
    "    elif cor_method[method][0] >= 0.5:\n",
    "        print('  Positive Korrelation')\n",
    "    else:\n",
    "        print('  Keine Korrelation')\n",
    "    \n",
    "    \n",
    "    if cor_method[method][1] >= sig_lv:\n",
    "        print(f'  Nullhypothese ist angenommen ({cor_method[method][1]})')\n",
    "    else: print(f'  Nullhypothese ist abgelehnt ({cor_method[method][1]})')\n",
    "    print()"
   ]
  },
  {
   "cell_type": "markdown",
   "id": "b418e1b1",
   "metadata": {},
   "source": [
    "Aus den beiden Koeffizienten (0.05 und 0.03) lässt sich schließen, dass die Verteilungen der Sequenzlängen von Enhancern und Promotoren nicht miteinander korrelieren."
   ]
  },
  {
   "cell_type": "markdown",
   "id": "ec572e5a",
   "metadata": {},
   "source": [
    "# Anzahl der Enhancern/ Promotoren, die an jedem Promotor/Enhancer paaren"
   ]
  },
  {
   "cell_type": "markdown",
   "id": "ba8055fa",
   "metadata": {},
   "source": [
    "## Lesen CSV-Datei, die Enhancern und Promotoren in Paar enthält"
   ]
  },
  {
   "cell_type": "code",
   "execution_count": null,
   "id": "7f7e0c8a",
   "metadata": {
    "scrolled": true
   },
   "outputs": [],
   "source": [
    "df_pair = pd.read_csv('pairs.csv')"
   ]
  },
  {
   "cell_type": "code",
   "execution_count": null,
   "id": "c80a7b85",
   "metadata": {},
   "outputs": [],
   "source": [
    "#Wählen nur Paaren in Chromosomen 1\n",
    "new_df_pair = df_pair[df_pair['enhancer_chrom'].isin(['chr1'])]"
   ]
  },
  {
   "cell_type": "markdown",
   "id": "ef65dde1",
   "metadata": {},
   "source": [
    "## Zahlen die gepaarten Promotoren/Enhancern an jedem Enhancer/Promotor"
   ]
  },
  {
   "cell_type": "code",
   "execution_count": null,
   "id": "3c266510",
   "metadata": {},
   "outputs": [],
   "source": [
    "promoters_per_enhancer = new_df_pair[['enhancer_name', 'promoter_name']].groupby(by='enhancer_name').size().reset_index(name='amount_pairs')\n",
    "promoters_per_enhancer"
   ]
  },
  {
   "cell_type": "code",
   "execution_count": null,
   "id": "877d09fd",
   "metadata": {},
   "outputs": [],
   "source": [
    "enhancers_per_promoter = new_df_pair[['enhancer_name', 'promoter_name']].groupby(by='promoter_name').size().reset_index(name='amount_pairs')\n",
    "enhancers_per_promoter"
   ]
  },
  {
   "cell_type": "markdown",
   "id": "f1acda00",
   "metadata": {},
   "source": [
    "## Berechnen die statistischen Maße"
   ]
  },
  {
   "cell_type": "code",
   "execution_count": null,
   "id": "4f8db8f7",
   "metadata": {
    "scrolled": true
   },
   "outputs": [],
   "source": [
    "# Funktion: Berechnen minimale, maximale und durchschnittliche Anzahl der Enhancern/Promotoren, die mit einem Promoter/Enhancer gepaart sind\n",
    "def statistical_measures(amount_pair: pd.DataFrame, seq_type: str):\n",
    "    max_ = amount_pair['amount_pairs'].max()\n",
    "    min_ = amount_pair['amount_pairs'].min()\n",
    "    mean_ = amount_pair['amount_pairs'].mean()\n",
    "    pair_type = 'Promotoren' if seq_type == 'Enhancer' else 'Enhancern' \n",
    "    print(f'Maximale Anzahl der gepaarten {pair_type} bei einem {seq_type}: {max_}')\n",
    "    print(f'Minimale Anzahl der gepaarten {pair_type} bei einem {seq_type}: {min_}')\n",
    "    print(f'Durchschnitliche Anzahl der gepaarten {pair_type} bei einem {seq_type}: {round(mean_, 2)}')"
   ]
  },
  {
   "cell_type": "code",
   "execution_count": null,
   "id": "98a4af75",
   "metadata": {
    "scrolled": true
   },
   "outputs": [],
   "source": [
    "statistical_measures(promoters_per_enhancer, 'Enhancer')"
   ]
  },
  {
   "cell_type": "code",
   "execution_count": null,
   "id": "42a9ab2f",
   "metadata": {
    "scrolled": true
   },
   "outputs": [],
   "source": [
    "statistical_measures(enhancers_per_promoter, 'Promotor')"
   ]
  },
  {
   "cell_type": "markdown",
   "id": "f915e5dd",
   "metadata": {},
   "source": [
    "## Visualisieren die Häufigkeiten von Anzahl der gepaarten Enhancern/Promotoren"
   ]
  },
  {
   "cell_type": "code",
   "execution_count": null,
   "id": "3e515eb6",
   "metadata": {},
   "outputs": [],
   "source": [
    "# Funktion: Erstellen den Plot über die Verteilung der Anzahl der gepaarten Enhancern/Promotoren\n",
    "def frequency_amount_plot(amount_pairs: pd.DataFrame, seq_type: str):\n",
    "    # Zahlen die Häufigkeiten der Anzahl\n",
    "    frequency_amount = amount_pairs.groupby(by='amount_pairs').size().reset_index(name='count')\n",
    "    #print(frequency_amount)\n",
    "    \n",
    "    # Erstellen den Plot\n",
    "    plt.figure(figsize=(10,5))\n",
    "    \n",
    "    bars = plt.bar(frequency_amount['amount_pairs'], frequency_amount['count'])\n",
    "    \n",
    "    # Addieren die Werten auf den Bars\n",
    "    plt.bar_label(bars, padding=3)\n",
    "        \n",
    "    # Setzen die Achsen-Beschriftungen und den Titel\n",
    "    if seq_type == 'Enhancer':\n",
    "        plt.xlabel('Anzahl der Promoters')\n",
    "        plt.ylabel('Häufigkeiten der Anzahl')\n",
    "        plt.title('Anzahl der mit Enhancern gepaarten Promotoren im Chromosom 1')\n",
    "    else: \n",
    "        plt.xlabel('Anzahl der Enhancern')\n",
    "        plt.ylabel('Häufigkeiten der Anzahl')\n",
    "        plt.title('Anzahl der mit Promotoren gepaarten Enhancern im Chromosom 1')\n",
    "    plt.show()"
   ]
  },
  {
   "cell_type": "code",
   "execution_count": null,
   "id": "d08bde59",
   "metadata": {
    "scrolled": true
   },
   "outputs": [],
   "source": [
    "frequency_amount_plot(promoters_per_enhancer, 'Enhancer')"
   ]
  },
  {
   "cell_type": "code",
   "execution_count": null,
   "id": "ce508690",
   "metadata": {
    "scrolled": true
   },
   "outputs": [],
   "source": [
    "frequency_amount_plot(enhancers_per_promoter, 'Promotor')"
   ]
  },
  {
   "cell_type": "markdown",
   "id": "d5a22fc3",
   "metadata": {},
   "source": [
    "Statistiken und Diagramme zeigen, dass oft ein Promoter durch einen Enhancer verstärkt wird. Umgekehrt kann ein Enhancer auch mehrere Promotoren unterstützen.\n",
    "\n",
    "**Aktualisierung:** Statistiken und Diagramme zeigen, dass die Aktivität eines Promotors durch mehrere Enhancern verstärkt wird, da viele Enhancern mit jedem Promotor gepaart sind. Während meistens ein Promotor nur mit einem Enhancer koppelt. Es kann sein, dass diese Enhancern spezifisch für ihre gepaarten Promotoren sind. Sie können aber auch, wie im vorliegenden Sätzen verfasst, viele andere Promotoren unterstürzen."
   ]
  },
  {
   "cell_type": "markdown",
   "id": "9bcd8802",
   "metadata": {},
   "source": [
    "# Verteilungen der Enhancern und Promotoren auf den unterschiedlichen Chromosomen\n",
    "\n",
    "## Filtern und zahlen die Enhancern/Promotoren in jedem Chromosom"
   ]
  },
  {
   "cell_type": "code",
   "execution_count": null,
   "id": "44e7e971",
   "metadata": {},
   "outputs": [],
   "source": [
    "# Filtern zahlen die Enhancern in jedem Chromosom sowie entfernen die Duplikationen\n",
    "df_en_per_chr = df_pair[['enhancer_chrom', 'enhancer_name']].drop_duplicates(ignore_index=True)\n",
    "print(df_en_per_chr)\n",
    "enhancers_count_per_chr = df_en_per_chr['enhancer_chrom'].value_counts()\n",
    "enhancers_count_per_chr"
   ]
  },
  {
   "cell_type": "code",
   "execution_count": null,
   "id": "6947cc13",
   "metadata": {},
   "outputs": [],
   "source": [
    "# Filtern zahlen die Promotoren in jedem Chromosom sowie entfernen die Duplikationen\n",
    "df_pro_per_chr = df_pair[['promoter_chrom', 'promoter_name']].drop_duplicates(ignore_index=True)\n",
    "print(df_pro_per_chr)\n",
    "promoters_count_per_chr = df_pro_per_chr['promoter_chrom'].value_counts()\n",
    "promoters_count_per_chr"
   ]
  },
  {
   "cell_type": "code",
   "execution_count": null,
   "id": "66e02fef",
   "metadata": {},
   "outputs": [],
   "source": [
    "# Erstellen ein Data Frame, das die Anzahle der Enhancern und Promotoren in den Chromosomen enthält\n",
    "en_pro_count_per_chr = pd.merge(enhancers_count_per_chr, promoters_count_per_chr, \n",
    "                                left_index=True, right_index=True, how='inner').sort_index()\n",
    "en_pro_count_per_chr"
   ]
  },
  {
   "cell_type": "markdown",
   "id": "c2031fa3",
   "metadata": {},
   "source": [
    "## Visualisieren die Anzahl der Enhancern und Promotoren an den Chromosomen"
   ]
  },
  {
   "cell_type": "code",
   "execution_count": null,
   "id": "ea73b69a",
   "metadata": {},
   "outputs": [],
   "source": [
    "import numpy as np\n",
    "x = np.arange(len(en_pro_count_per_chr.index))  # the label locations\n",
    "width = 0.4  # the width of the bars\n",
    "multiplier = 0\n",
    "\n",
    "fig, ax = plt.subplots(layout='constrained', figsize=(13,5))\n",
    "\n",
    "for col in en_pro_count_per_chr.columns:\n",
    "    offset = width * multiplier\n",
    "    color = 'darkorange' if col == 'enhancer_chrom' else 'green'\n",
    "    rects = ax.bar(x + offset, en_pro_count_per_chr[col], width, label=col, color = color)\n",
    "    ax.bar_label(rects, padding=4)\n",
    "    multiplier += 1\n",
    "\n",
    "# Add some text for labels, title and custom x-axis tick labels, etc.\n",
    "ax.set_xlabel('Chromosomen')\n",
    "ax.set_ylabel('Anzahl der Enhancern/Promotoren')\n",
    "ax.set_title('Anzahl der Enhancern/Promotoren in den Chromosomen')\n",
    "ax.set_xticks(x + 0.25, en_pro_count_per_chr.index)\n",
    "\n",
    "ax.legend(loc='upper right', ncols=1)\n",
    "\n",
    "plt.show()"
   ]
  },
  {
   "cell_type": "code",
   "execution_count": null,
   "id": "febc803d",
   "metadata": {},
   "outputs": [],
   "source": []
  }
 ],
 "metadata": {
  "kernelspec": {
   "display_name": "Hausarbeit_Nguyen",
   "language": "python",
   "name": "hausarbeit_nguyen"
  },
  "language_info": {
   "codemirror_mode": {
    "name": "ipython",
    "version": 3
   },
   "file_extension": ".py",
   "mimetype": "text/x-python",
   "name": "python",
   "nbconvert_exporter": "python",
   "pygments_lexer": "ipython3",
   "version": "3.9.12"
  }
 },
 "nbformat": 4,
 "nbformat_minor": 5
}
